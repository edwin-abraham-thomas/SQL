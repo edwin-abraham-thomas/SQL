{
    "metadata": {
        "kernelspec": {
            "name": "SQL",
            "display_name": "SQL",
            "language": "sql"
        },
        "language_info": {
            "name": "sql",
            "version": ""
        }
    },
    "nbformat_minor": 2,
    "nbformat": 4,
    "cells": [
        {
            "cell_type": "markdown",
            "source": [
                "# PostgreSQL"
            ],
            "metadata": {
                "azdata_cell_guid": "c87429f7-46d1-4182-ad0a-d49fe279882d"
            },
            "attachments": {}
        },
        {
            "cell_type": "code",
            "source": [
                "SELECT * FROM performance LIMIT 5;\r\n",
                "SELECT * FROM perform_feb LIMIT 5;\r\n",
                "SELECT * FROM codes_carrier;\r\n",
                "SELECT * FROM codes_cancellation;"
            ],
            "metadata": {
                "azdata_cell_guid": "8ae10e66-6488-4bcb-a3c9-01cf0c7a18e4",
                "language": "sql",
                "tags": []
            },
            "outputs": [
                {
                    "output_type": "display_data",
                    "data": {
                        "text/html": "(5 row(s) affected)"
                    },
                    "metadata": {}
                },
                {
                    "output_type": "display_data",
                    "data": {
                        "text/html": "(5 row(s) affected)"
                    },
                    "metadata": {}
                },
                {
                    "output_type": "display_data",
                    "data": {
                        "text/html": "(11 row(s) affected)"
                    },
                    "metadata": {}
                },
                {
                    "output_type": "display_data",
                    "data": {
                        "text/html": "(4 row(s) affected)"
                    },
                    "metadata": {}
                },
                {
                    "output_type": "display_data",
                    "data": {
                        "text/html": "Total execution time: 00:00:00.019"
                    },
                    "metadata": {}
                },
                {
                    "output_type": "execute_result",
                    "metadata": {},
                    "execution_count": 1,
                    "data": {
                        "application/vnd.dataresource+json": {
                            "schema": {
                                "fields": [
                                    {
                                        "name": "fl_date"
                                    },
                                    {
                                        "name": "mkt_carrier"
                                    },
                                    {
                                        "name": "mkt_carrier_fl_num"
                                    },
                                    {
                                        "name": "origin"
                                    },
                                    {
                                        "name": "origin_city_name"
                                    },
                                    {
                                        "name": "origin_state_abr"
                                    },
                                    {
                                        "name": "dest"
                                    },
                                    {
                                        "name": "dest_city_name"
                                    },
                                    {
                                        "name": "dest_state_abr"
                                    },
                                    {
                                        "name": "dep_delay_new"
                                    },
                                    {
                                        "name": "arr_delay_new"
                                    },
                                    {
                                        "name": "cancelled"
                                    },
                                    {
                                        "name": "cancellation_code"
                                    },
                                    {
                                        "name": "diverted"
                                    },
                                    {
                                        "name": "carrier_delay"
                                    },
                                    {
                                        "name": "weather_delay"
                                    },
                                    {
                                        "name": "nas_delay"
                                    },
                                    {
                                        "name": "security_delay"
                                    },
                                    {
                                        "name": "late_aircraft_delay"
                                    }
                                ]
                            },
                            "data": [
                                {
                                    "fl_date": "2018-01-01",
                                    "mkt_carrier": "UA",
                                    "mkt_carrier_fl_num": "2429",
                                    "origin": "EWR",
                                    "origin_city_name": "Newark, NJ",
                                    "origin_state_abr": "NJ",
                                    "dest": "DEN",
                                    "dest_city_name": "Denver, CO",
                                    "dest_state_abr": "CO",
                                    "dep_delay_new": "0",
                                    "arr_delay_new": "0",
                                    "cancelled": "0",
                                    "cancellation_code": "NULL",
                                    "diverted": "0",
                                    "carrier_delay": "NULL",
                                    "weather_delay": "NULL",
                                    "nas_delay": "NULL",
                                    "security_delay": "NULL",
                                    "late_aircraft_delay": "NULL"
                                },
                                {
                                    "fl_date": "2018-01-01",
                                    "mkt_carrier": "UA",
                                    "mkt_carrier_fl_num": "2427",
                                    "origin": "LAS",
                                    "origin_city_name": "Las Vegas, NV",
                                    "origin_state_abr": "NV",
                                    "dest": "SFO",
                                    "dest_city_name": "San Francisco, CA",
                                    "dest_state_abr": "CA",
                                    "dep_delay_new": "0",
                                    "arr_delay_new": "0",
                                    "cancelled": "0",
                                    "cancellation_code": "NULL",
                                    "diverted": "0",
                                    "carrier_delay": "NULL",
                                    "weather_delay": "NULL",
                                    "nas_delay": "NULL",
                                    "security_delay": "NULL",
                                    "late_aircraft_delay": "NULL"
                                },
                                {
                                    "fl_date": "2018-01-01",
                                    "mkt_carrier": "UA",
                                    "mkt_carrier_fl_num": "2426",
                                    "origin": "SNA",
                                    "origin_city_name": "Santa Ana, CA",
                                    "origin_state_abr": "CA",
                                    "dest": "DEN",
                                    "dest_city_name": "Denver, CO",
                                    "dest_state_abr": "CO",
                                    "dep_delay_new": "0",
                                    "arr_delay_new": "0",
                                    "cancelled": "0",
                                    "cancellation_code": "NULL",
                                    "diverted": "0",
                                    "carrier_delay": "NULL",
                                    "weather_delay": "NULL",
                                    "nas_delay": "NULL",
                                    "security_delay": "NULL",
                                    "late_aircraft_delay": "NULL"
                                },
                                {
                                    "fl_date": "2018-01-01",
                                    "mkt_carrier": "UA",
                                    "mkt_carrier_fl_num": "2425",
                                    "origin": "RSW",
                                    "origin_city_name": "Fort Myers, FL",
                                    "origin_state_abr": "FL",
                                    "dest": "ORD",
                                    "dest_city_name": "Chicago, IL",
                                    "dest_state_abr": "IL",
                                    "dep_delay_new": "6",
                                    "arr_delay_new": "0",
                                    "cancelled": "0",
                                    "cancellation_code": "NULL",
                                    "diverted": "0",
                                    "carrier_delay": "NULL",
                                    "weather_delay": "NULL",
                                    "nas_delay": "NULL",
                                    "security_delay": "NULL",
                                    "late_aircraft_delay": "NULL"
                                },
                                {
                                    "fl_date": "2018-01-01",
                                    "mkt_carrier": "UA",
                                    "mkt_carrier_fl_num": "2424",
                                    "origin": "ORD",
                                    "origin_city_name": "Chicago, IL",
                                    "origin_state_abr": "IL",
                                    "dest": "ALB",
                                    "dest_city_name": "Albany, NY",
                                    "dest_state_abr": "NY",
                                    "dep_delay_new": "20",
                                    "arr_delay_new": "14",
                                    "cancelled": "0",
                                    "cancellation_code": "NULL",
                                    "diverted": "0",
                                    "carrier_delay": "NULL",
                                    "weather_delay": "NULL",
                                    "nas_delay": "NULL",
                                    "security_delay": "NULL",
                                    "late_aircraft_delay": "NULL"
                                }
                            ]
                        },
                        "text/html": [
                            "<table>",
                            "<tr><th>fl_date</th><th>mkt_carrier</th><th>mkt_carrier_fl_num</th><th>origin</th><th>origin_city_name</th><th>origin_state_abr</th><th>dest</th><th>dest_city_name</th><th>dest_state_abr</th><th>dep_delay_new</th><th>arr_delay_new</th><th>cancelled</th><th>cancellation_code</th><th>diverted</th><th>carrier_delay</th><th>weather_delay</th><th>nas_delay</th><th>security_delay</th><th>late_aircraft_delay</th></tr>",
                            "<tr><td>2018-01-01</td><td>UA</td><td>2429</td><td>EWR</td><td>Newark, NJ</td><td>NJ</td><td>DEN</td><td>Denver, CO</td><td>CO</td><td>0</td><td>0</td><td>0</td><td>NULL</td><td>0</td><td>NULL</td><td>NULL</td><td>NULL</td><td>NULL</td><td>NULL</td></tr>",
                            "<tr><td>2018-01-01</td><td>UA</td><td>2427</td><td>LAS</td><td>Las Vegas, NV</td><td>NV</td><td>SFO</td><td>San Francisco, CA</td><td>CA</td><td>0</td><td>0</td><td>0</td><td>NULL</td><td>0</td><td>NULL</td><td>NULL</td><td>NULL</td><td>NULL</td><td>NULL</td></tr>",
                            "<tr><td>2018-01-01</td><td>UA</td><td>2426</td><td>SNA</td><td>Santa Ana, CA</td><td>CA</td><td>DEN</td><td>Denver, CO</td><td>CO</td><td>0</td><td>0</td><td>0</td><td>NULL</td><td>0</td><td>NULL</td><td>NULL</td><td>NULL</td><td>NULL</td><td>NULL</td></tr>",
                            "<tr><td>2018-01-01</td><td>UA</td><td>2425</td><td>RSW</td><td>Fort Myers, FL</td><td>FL</td><td>ORD</td><td>Chicago, IL</td><td>IL</td><td>6</td><td>0</td><td>0</td><td>NULL</td><td>0</td><td>NULL</td><td>NULL</td><td>NULL</td><td>NULL</td><td>NULL</td></tr>",
                            "<tr><td>2018-01-01</td><td>UA</td><td>2424</td><td>ORD</td><td>Chicago, IL</td><td>IL</td><td>ALB</td><td>Albany, NY</td><td>NY</td><td>20</td><td>14</td><td>0</td><td>NULL</td><td>0</td><td>NULL</td><td>NULL</td><td>NULL</td><td>NULL</td><td>NULL</td></tr>",
                            "</table>"
                        ]
                    }
                },
                {
                    "output_type": "execute_result",
                    "metadata": {},
                    "execution_count": 1,
                    "data": {
                        "application/vnd.dataresource+json": {
                            "schema": {
                                "fields": [
                                    {
                                        "name": "fl_date"
                                    },
                                    {
                                        "name": "mkt_carrier"
                                    },
                                    {
                                        "name": "mkt_carrier_fl_num"
                                    },
                                    {
                                        "name": "origin"
                                    },
                                    {
                                        "name": "origin_city_name"
                                    },
                                    {
                                        "name": "origin_state_abr"
                                    },
                                    {
                                        "name": "dest"
                                    },
                                    {
                                        "name": "dest_city_name"
                                    },
                                    {
                                        "name": "dest_state_abr"
                                    },
                                    {
                                        "name": "dep_delay_new"
                                    },
                                    {
                                        "name": "arr_delay_new"
                                    },
                                    {
                                        "name": "cancelled"
                                    },
                                    {
                                        "name": "cancellation_code"
                                    },
                                    {
                                        "name": "diverted"
                                    },
                                    {
                                        "name": "carrier_delay"
                                    },
                                    {
                                        "name": "weather_delay"
                                    },
                                    {
                                        "name": "nas_delay"
                                    },
                                    {
                                        "name": "security_delay"
                                    },
                                    {
                                        "name": "late_aircraft_delay"
                                    }
                                ]
                            },
                            "data": [
                                {
                                    "fl_date": "2018-02-01",
                                    "mkt_carrier": "F9",
                                    "mkt_carrier_fl_num": "1104",
                                    "origin": "LAS",
                                    "origin_city_name": "Las Vegas, NV",
                                    "origin_state_abr": "NV",
                                    "dest": "MIA",
                                    "dest_city_name": "Miami, FL",
                                    "dest_state_abr": "FL",
                                    "dep_delay_new": "0",
                                    "arr_delay_new": "0",
                                    "cancelled": "0",
                                    "cancellation_code": "NULL",
                                    "diverted": "0",
                                    "carrier_delay": "NULL",
                                    "weather_delay": "NULL",
                                    "nas_delay": "NULL",
                                    "security_delay": "NULL",
                                    "late_aircraft_delay": "NULL"
                                },
                                {
                                    "fl_date": "2018-02-01",
                                    "mkt_carrier": "F9",
                                    "mkt_carrier_fl_num": "408",
                                    "origin": "LAX",
                                    "origin_city_name": "Los Angeles, CA",
                                    "origin_state_abr": "CA",
                                    "dest": "DEN",
                                    "dest_city_name": "Denver, CO",
                                    "dest_state_abr": "CO",
                                    "dep_delay_new": "0",
                                    "arr_delay_new": "0",
                                    "cancelled": "0",
                                    "cancellation_code": "NULL",
                                    "diverted": "0",
                                    "carrier_delay": "NULL",
                                    "weather_delay": "NULL",
                                    "nas_delay": "NULL",
                                    "security_delay": "NULL",
                                    "late_aircraft_delay": "NULL"
                                },
                                {
                                    "fl_date": "2018-02-01",
                                    "mkt_carrier": "F9",
                                    "mkt_carrier_fl_num": "1456",
                                    "origin": "LAS",
                                    "origin_city_name": "Las Vegas, NV",
                                    "origin_state_abr": "NV",
                                    "dest": "ATL",
                                    "dest_city_name": "Atlanta, GA",
                                    "dest_state_abr": "GA",
                                    "dep_delay_new": "0",
                                    "arr_delay_new": "0",
                                    "cancelled": "0",
                                    "cancellation_code": "NULL",
                                    "diverted": "0",
                                    "carrier_delay": "NULL",
                                    "weather_delay": "NULL",
                                    "nas_delay": "NULL",
                                    "security_delay": "NULL",
                                    "late_aircraft_delay": "NULL"
                                },
                                {
                                    "fl_date": "2018-02-01",
                                    "mkt_carrier": "F9",
                                    "mkt_carrier_fl_num": "1680",
                                    "origin": "LAS",
                                    "origin_city_name": "Las Vegas, NV",
                                    "origin_state_abr": "NV",
                                    "dest": "MCO",
                                    "dest_city_name": "Orlando, FL",
                                    "dest_state_abr": "FL",
                                    "dep_delay_new": "7",
                                    "arr_delay_new": "5",
                                    "cancelled": "0",
                                    "cancellation_code": "NULL",
                                    "diverted": "0",
                                    "carrier_delay": "NULL",
                                    "weather_delay": "NULL",
                                    "nas_delay": "NULL",
                                    "security_delay": "NULL",
                                    "late_aircraft_delay": "NULL"
                                },
                                {
                                    "fl_date": "2018-02-01",
                                    "mkt_carrier": "F9",
                                    "mkt_carrier_fl_num": "680",
                                    "origin": "DEN",
                                    "origin_city_name": "Denver, CO",
                                    "origin_state_abr": "CO",
                                    "dest": "MCO",
                                    "dest_city_name": "Orlando, FL",
                                    "dest_state_abr": "FL",
                                    "dep_delay_new": "0",
                                    "arr_delay_new": "0",
                                    "cancelled": "0",
                                    "cancellation_code": "NULL",
                                    "diverted": "0",
                                    "carrier_delay": "NULL",
                                    "weather_delay": "NULL",
                                    "nas_delay": "NULL",
                                    "security_delay": "NULL",
                                    "late_aircraft_delay": "NULL"
                                }
                            ]
                        },
                        "text/html": [
                            "<table>",
                            "<tr><th>fl_date</th><th>mkt_carrier</th><th>mkt_carrier_fl_num</th><th>origin</th><th>origin_city_name</th><th>origin_state_abr</th><th>dest</th><th>dest_city_name</th><th>dest_state_abr</th><th>dep_delay_new</th><th>arr_delay_new</th><th>cancelled</th><th>cancellation_code</th><th>diverted</th><th>carrier_delay</th><th>weather_delay</th><th>nas_delay</th><th>security_delay</th><th>late_aircraft_delay</th></tr>",
                            "<tr><td>2018-02-01</td><td>F9</td><td>1104</td><td>LAS</td><td>Las Vegas, NV</td><td>NV</td><td>MIA</td><td>Miami, FL</td><td>FL</td><td>0</td><td>0</td><td>0</td><td>NULL</td><td>0</td><td>NULL</td><td>NULL</td><td>NULL</td><td>NULL</td><td>NULL</td></tr>",
                            "<tr><td>2018-02-01</td><td>F9</td><td>408</td><td>LAX</td><td>Los Angeles, CA</td><td>CA</td><td>DEN</td><td>Denver, CO</td><td>CO</td><td>0</td><td>0</td><td>0</td><td>NULL</td><td>0</td><td>NULL</td><td>NULL</td><td>NULL</td><td>NULL</td><td>NULL</td></tr>",
                            "<tr><td>2018-02-01</td><td>F9</td><td>1456</td><td>LAS</td><td>Las Vegas, NV</td><td>NV</td><td>ATL</td><td>Atlanta, GA</td><td>GA</td><td>0</td><td>0</td><td>0</td><td>NULL</td><td>0</td><td>NULL</td><td>NULL</td><td>NULL</td><td>NULL</td><td>NULL</td></tr>",
                            "<tr><td>2018-02-01</td><td>F9</td><td>1680</td><td>LAS</td><td>Las Vegas, NV</td><td>NV</td><td>MCO</td><td>Orlando, FL</td><td>FL</td><td>7</td><td>5</td><td>0</td><td>NULL</td><td>0</td><td>NULL</td><td>NULL</td><td>NULL</td><td>NULL</td><td>NULL</td></tr>",
                            "<tr><td>2018-02-01</td><td>F9</td><td>680</td><td>DEN</td><td>Denver, CO</td><td>CO</td><td>MCO</td><td>Orlando, FL</td><td>FL</td><td>0</td><td>0</td><td>0</td><td>NULL</td><td>0</td><td>NULL</td><td>NULL</td><td>NULL</td><td>NULL</td><td>NULL</td></tr>",
                            "</table>"
                        ]
                    }
                },
                {
                    "output_type": "execute_result",
                    "metadata": {},
                    "execution_count": 1,
                    "data": {
                        "application/vnd.dataresource+json": {
                            "schema": {
                                "fields": [
                                    {
                                        "name": "carrier_code"
                                    },
                                    {
                                        "name": "carrier_desc"
                                    }
                                ]
                            },
                            "data": [
                                {
                                    "carrier_code": "AA",
                                    "carrier_desc": "American Airlines"
                                },
                                {
                                    "carrier_code": "AS",
                                    "carrier_desc": "Alaska Airlines"
                                },
                                {
                                    "carrier_code": "B6",
                                    "carrier_desc": "JetBlue Airways"
                                },
                                {
                                    "carrier_code": "DL",
                                    "carrier_desc": "Delta Air Lines"
                                },
                                {
                                    "carrier_code": "F9",
                                    "carrier_desc": "Frontier Airlines"
                                },
                                {
                                    "carrier_code": "G4",
                                    "carrier_desc": "Allegiant Air"
                                },
                                {
                                    "carrier_code": "HA",
                                    "carrier_desc": "Hawaiian Airlines"
                                },
                                {
                                    "carrier_code": "NK",
                                    "carrier_desc": "Spirit Air Lines"
                                },
                                {
                                    "carrier_code": "UA",
                                    "carrier_desc": "United Air Lines"
                                },
                                {
                                    "carrier_code": "VX",
                                    "carrier_desc": "Virgin America"
                                },
                                {
                                    "carrier_code": "WN",
                                    "carrier_desc": "Southwest Airlines"
                                }
                            ]
                        },
                        "text/html": [
                            "<table>",
                            "<tr><th>carrier_code</th><th>carrier_desc</th></tr>",
                            "<tr><td>AA</td><td>American Airlines</td></tr>",
                            "<tr><td>AS</td><td>Alaska Airlines</td></tr>",
                            "<tr><td>B6</td><td>JetBlue Airways</td></tr>",
                            "<tr><td>DL</td><td>Delta Air Lines</td></tr>",
                            "<tr><td>F9</td><td>Frontier Airlines</td></tr>",
                            "<tr><td>G4</td><td>Allegiant Air</td></tr>",
                            "<tr><td>HA</td><td>Hawaiian Airlines</td></tr>",
                            "<tr><td>NK</td><td>Spirit Air Lines</td></tr>",
                            "<tr><td>UA</td><td>United Air Lines</td></tr>",
                            "<tr><td>VX</td><td>Virgin America</td></tr>",
                            "<tr><td>WN</td><td>Southwest Airlines</td></tr>",
                            "</table>"
                        ]
                    }
                },
                {
                    "output_type": "execute_result",
                    "metadata": {},
                    "execution_count": 1,
                    "data": {
                        "application/vnd.dataresource+json": {
                            "schema": {
                                "fields": [
                                    {
                                        "name": "cancellation_code"
                                    },
                                    {
                                        "name": "cancel_desc"
                                    }
                                ]
                            },
                            "data": [
                                {
                                    "cancellation_code": "A",
                                    "cancel_desc": "Carrier"
                                },
                                {
                                    "cancellation_code": "B",
                                    "cancel_desc": "Weather"
                                },
                                {
                                    "cancellation_code": "C",
                                    "cancel_desc": "National Air System"
                                },
                                {
                                    "cancellation_code": "D",
                                    "cancel_desc": "Security"
                                }
                            ]
                        },
                        "text/html": [
                            "<table>",
                            "<tr><th>cancellation_code</th><th>cancel_desc</th></tr>",
                            "<tr><td>A</td><td>Carrier</td></tr>",
                            "<tr><td>B</td><td>Weather</td></tr>",
                            "<tr><td>C</td><td>National Air System</td></tr>",
                            "<tr><td>D</td><td>Security</td></tr>",
                            "</table>"
                        ]
                    }
                }
            ],
            "execution_count": 1
        }
    ]
}